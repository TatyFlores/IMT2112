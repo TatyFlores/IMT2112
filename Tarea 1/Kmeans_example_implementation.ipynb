{
 "cells": [
  {
   "cell_type": "markdown",
   "id": "aa6bb986",
   "metadata": {},
   "source": [
    "# Clustering with *k*-means\n",
    "\n",
    " - Elwin van 't Wout\n",
    " - 8 August 2025\n",
    " - Pontificia Universidad Católica de Chile\n",
    "\n",
    "The algorithm *k*-means is one of the most popular methods for clustering of datasets. Although it is available in the scikit-learn library, it is instructive to program the algorithm and see how it works step by step. This notebook is an example implementation for educational purposes and is not necessarily the *best* way to program the algorithm."
   ]
  },
  {
   "cell_type": "code",
   "execution_count": 1,
   "id": "abad6654",
   "metadata": {},
   "outputs": [],
   "source": [
    "import numpy as np\n",
    "from matplotlib import pyplot as plt"
   ]
  },
  {
   "cell_type": "markdown",
   "id": "a0ff88c1",
   "metadata": {},
   "source": [
    "Let us create a dataset with points located randomnly inside a given number of blobs."
   ]
  },
  {
   "cell_type": "code",
   "execution_count": null,
   "id": "378c538e",
   "metadata": {},
   "outputs": [],
   "source": [
    "n_points = 10000\n",
    "print(\"Number of data points:\", n_points)"
   ]
  },
  {
   "cell_type": "code",
   "execution_count": null,
   "id": "e5bf51fc",
   "metadata": {},
   "outputs": [],
   "source": [
    "# set the seed for reproducibility\n",
    "np.random.seed(0)"
   ]
  },
  {
   "cell_type": "code",
   "execution_count": null,
   "id": "e803eea2-726f-49bd-8af6-d09d15b863d0",
   "metadata": {},
   "outputs": [],
   "source": [
    "from sklearn.datasets import make_blobs\n",
    "n_clusters = 3\n",
    "dataset, _ = make_blobs(n_samples=n_points, n_features=2, centers=n_clusters)\n",
    "print(\"Created a dataset that represents\", n_clusters, \"clusters in\", dataset.shape[1], \"dimensions.\")"
   ]
  },
  {
   "cell_type": "code",
   "execution_count": null,
   "id": "ae3ce721",
   "metadata": {},
   "outputs": [],
   "source": [
    "plt.plot(dataset[:,0], dataset[:,1], 'b.')\n",
    "plt.title('data set')\n",
    "plt.show()"
   ]
  },
  {
   "cell_type": "markdown",
   "id": "93fd9f11",
   "metadata": {},
   "source": [
    "The *k*-means algorithm is an iterative method that searches for *k* clusters. Each cluster is represented by a center, and all points are assigned to the closest center in space.\n",
    "\n",
    "As for all iterative methods, an initial guess must be provided. Here, the starting centers are uniformly distributed on the line $0<x<1$ and $y=0$."
   ]
  },
  {
   "cell_type": "code",
   "execution_count": null,
   "id": "3bb5409a",
   "metadata": {},
   "outputs": [],
   "source": [
    "k = 7\n",
    "print(\"Number of clusters:\", k)"
   ]
  },
  {
   "cell_type": "code",
   "execution_count": null,
   "id": "9280b891",
   "metadata": {},
   "outputs": [],
   "source": [
    "centers = np.zeros([k, 2])\n",
    "for c in range(k):\n",
    "    centers[c,0] = float(c+1)/(k+1)\n",
    "    centers[c,1] = 0.0"
   ]
  },
  {
   "cell_type": "code",
   "execution_count": null,
   "id": "6f9f0f12",
   "metadata": {},
   "outputs": [],
   "source": [
    "plt.plot(centers[:,0], centers[:,1], 'rx')\n",
    "plt.xlim([0,1])\n",
    "plt.ylim([-1,1])\n",
    "plt.title('initial centers')\n",
    "plt.show()"
   ]
  },
  {
   "cell_type": "markdown",
   "id": "09ca614c",
   "metadata": {},
   "source": [
    "The *k*-means algorithm iteratively improves the center locations, mainly through two steps.\n",
    "\n",
    " 1. The assignment step loops over all data points and searches for the closest center. Each data point is labelled with the closest center, that is, its cluster.\n",
    "\n",
    " 1. The update step calculates the center of mass of each cluster. This will be the new center of this cluster.\n",
    "\n",
    "These two steps are repeated until the clusters do not change anymore, or when the maximum number of iteration specified is reached."
   ]
  },
  {
   "cell_type": "code",
   "execution_count": null,
   "id": "924af31c",
   "metadata": {},
   "outputs": [],
   "source": [
    "max_iterations = 1000"
   ]
  },
  {
   "cell_type": "code",
   "execution_count": null,
   "id": "5326d7e9",
   "metadata": {},
   "outputs": [],
   "source": [
    "%%time\n",
    "\n",
    "# store the history of centers and clusters\n",
    "history_of_centers = [centers]\n",
    "history_of_clusters = []\n",
    "\n",
    "for iteration in range(max_iterations):\n",
    "    \n",
    "    old_centers = history_of_centers[-1]\n",
    "\n",
    "    # assignment step\n",
    "    cluster = np.zeros(n_points, dtype='int')\n",
    "    for p in range(n_points):\n",
    "        minimum_distance = np.inf\n",
    "        nearest_cluster = None\n",
    "        for c in range(k):\n",
    "            distance_to_cluster_c = np.sqrt((dataset[p,0] - old_centers[c,0])**2 + (dataset[p,1] - old_centers[c,1])**2)\n",
    "            if distance_to_cluster_c < minimum_distance:\n",
    "                minimum_distance = distance_to_cluster_c\n",
    "                nearest_cluster = c\n",
    "        cluster[p] = nearest_cluster\n",
    "    history_of_clusters.append(cluster)\n",
    "    \n",
    "    # check convergence\n",
    "    if iteration > 0:\n",
    "        clusters_changed = False\n",
    "        for p in range(n_points):\n",
    "            if history_of_clusters[-1][p] != history_of_clusters[-2][p]:\n",
    "                clusters_changed = True\n",
    "        if not clusters_changed:\n",
    "            print(\"Converged in\", iteration, \"iterations.\\n\")\n",
    "            break\n",
    "\n",
    "    # update step\n",
    "    number_of_points_in_cluster = np.zeros(k, dtype='int')\n",
    "    sum_of_locations = np.zeros([k, 2], dtype='float')\n",
    "    for p in range(n_points):\n",
    "        number_of_points_in_cluster[cluster[p]] += 1\n",
    "        sum_of_locations[cluster[p], :] += dataset[p, :]\n",
    "    new_centers = np.zeros([k, 2], dtype='float')\n",
    "    for c in range(k):\n",
    "        new_centers[c,0] = sum_of_locations[c,0] / number_of_points_in_cluster[c]\n",
    "        new_centers[c,1] = sum_of_locations[c,1] / number_of_points_in_cluster[c]\n",
    "    history_of_centers.append(new_centers)\n",
    "\n",
    "if iteration == max_iterations-1:\n",
    "    print(\"The algorithm did not converge in\", max_iterations, \"iterations.\")"
   ]
  },
  {
   "cell_type": "markdown",
   "id": "197f71cc",
   "metadata": {},
   "source": [
    "Let us visualize the clusters."
   ]
  },
  {
   "cell_type": "code",
   "execution_count": null,
   "id": "a0e8e0a1-1639-430a-bc9b-391f5f622da1",
   "metadata": {
    "scrolled": true
   },
   "outputs": [],
   "source": [
    "for itr in range(iteration+1):\n",
    "    plt.scatter(dataset[:,0], dataset[:,1], c=history_of_clusters[itr])\n",
    "    for l in range(itr):\n",
    "        plt.plot(history_of_centers[l][:,0], history_of_centers[l][:,1], 'b+')\n",
    "    plt.plot(history_of_centers[itr][:,0], history_of_centers[itr][:,1], 'rx')\n",
    "    plt.title(\"Iteration \"+str(itr))\n",
    "    plt.show()"
   ]
  },
  {
   "cell_type": "markdown",
   "id": "42f3158f-b1bb-4bb9-96ed-8e42e533f5ec",
   "metadata": {},
   "source": [
    "The algorithm indeed finds clusters of data points."
   ]
  },
  {
   "cell_type": "code",
   "execution_count": null,
   "id": "dd4ed430-4c84-4a71-b48d-b599bec1828b",
   "metadata": {},
   "outputs": [],
   "source": [
    "def calc_dispersion(datapoints, cluster, centers):\n",
    "    dispersion = 0.0\n",
    "    for i in range(centers.shape[0]):\n",
    "        dispersion += np.sum( np.linalg.norm( datapoints[cluster==i, :] - centers[i,:], axis=1 ) )\n",
    "    return dispersion"
   ]
  },
  {
   "cell_type": "code",
   "execution_count": null,
   "id": "ceea252f-1446-4266-9ccb-0ceeec1a35db",
   "metadata": {},
   "outputs": [],
   "source": [
    "dispersion = calc_dispersion(dataset, history_of_clusters[-1], history_of_centers[-1])\n",
    "print(\"The dispersion of the clustering is\", dispersion)"
   ]
  },
  {
   "cell_type": "code",
   "execution_count": null,
   "id": "c11899e2-2926-49dc-a673-71f2dcd7099d",
   "metadata": {},
   "outputs": [],
   "source": []
  }
 ],
 "metadata": {
  "kernelspec": {
   "display_name": "Python 3",
   "language": "python",
   "name": "python3"
  },
  "language_info": {
   "codemirror_mode": {
    "name": "ipython",
    "version": 3
   },
   "file_extension": ".py",
   "mimetype": "text/x-python",
   "name": "python",
   "nbconvert_exporter": "python",
   "pygments_lexer": "ipython3",
   "version": "3.8.10"
  }
 },
 "nbformat": 4,
 "nbformat_minor": 5
}
